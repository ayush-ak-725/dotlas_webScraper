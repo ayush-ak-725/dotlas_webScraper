{
  "nbformat": 4,
  "nbformat_minor": 0,
  "metadata": {
    "colab": {
      "name": "Doltas_test.ipynb",
      "provenance": [],
      "collapsed_sections": []
    },
    "kernelspec": {
      "name": "python3",
      "display_name": "Python 3"
    },
    "language_info": {
      "name": "python"
    }
  },
  "cells": [
    {
      "cell_type": "code",
      "execution_count": 121,
      "metadata": {
        "id": "xi5288S6V4Ku"
      },
      "outputs": [],
      "source": [
        "from bs4 import BeautifulSoup as bs\n",
        "import requests\n",
        "from csv import writer"
      ]
    },
    {
      "cell_type": "code",
      "source": [
        "### Load the webpage"
      ],
      "metadata": {
        "id": "AJNhfvOoWgYn"
      },
      "execution_count": 122,
      "outputs": []
    },
    {
      "cell_type": "code",
      "source": [
        "r = requests.get(\"https://www.talabat.com/uae/restaurant/645430/pasta-della-nona-jlt-jumeirah-lakes-towers?aid=1308\")\n",
        "# Convert to a beautiful soup object\n",
        "soup = bs(r.content)\n",
        "# Print out the HTML\n",
        "contents = soup.prettify()\n",
        "print(contents)"
      ],
      "metadata": {
        "id": "I9kw1OY2Wri5"
      },
      "execution_count": null,
      "outputs": []
    },
    {
      "cell_type": "markdown",
      "source": [
        "Trying to parse for just a single URL (Testing purpose)"
      ],
      "metadata": {
        "id": "6kOvaiU4PykV"
      }
    },
    {
      "cell_type": "code",
      "source": [
        "import json\n",
        "# sc = bs(r.text, 'html.parser')\n",
        "\n",
        "s = soup.find('script', type='application/ld+json')\n",
        "print(s)"
      ],
      "metadata": {
        "colab": {
          "base_uri": "https://localhost:8080/"
        },
        "id": "-8hLBnnesGMm",
        "outputId": "2e172ab7-9bf6-4eb0-dfa6-573443efb47e"
      },
      "execution_count": 124,
      "outputs": [
        {
          "output_type": "stream",
          "name": "stdout",
          "text": [
            "<script type=\"application/ld+json\">{\"@context\":\"http://schema.org\",\"@type\":\"Restaurant\",\"@id\":\"https://www.talabat.com/uae/restaurant/645430/pasta-della-nona-jlt-jumeirah-lakes-towers?aid=1308\",\"image\":\"https://images.deliveryhero.io/image/talabat/restaurants/Logos_PastaDellaNonna_Sec637794192311679134.jpg?width=180\",\"priceRange\":\" - \",\"name\":\"Pasta Della Nonna\",\"address\":{\"@type\":\"PostalAddress\",\"streetAddress\":\"Street Address\",\"addressLocality\":\"Jumeirah Lakes Towers - JLT\",\"addressRegion\":\"\",\"postalCode\":\"00000\",\"addressCountry\":\"uae\"},\"geo\":{\"@type\":\"GeoCoordinates\",\"latitude\":\"25.0651332\",\"longitude\":\"55.13827815\"},\"servesCuisine\":\"Italian, Pasta, Salad\",\"telephone\":\"00000-00000\",\"potentialAction\":{\"@type\":\"OrderAction\",\"target\":{\"@type\":\"EntryPoint\",\"urlTemplate\":\"https://www.talabat.com/uae/restaurant/645430/pasta-della-nona-jlt-jumeirah-lakes-towers?aid=1308\",\"inLanguage\":\"en-US\",\"actionPlatform\":[\"http://schema.org/DesktopWebPlatform\",\"http://schema.org/IOSPlatform\",\"http://schema.org/AndroidPlatform\"]},\"deliveryMethod\":[\"http://purl.org/goodrelations/v1#DeliveryModePickUp\",\"http://purl.org/goodrelations/v1#DeliveryModeOwnFleet\"],\"priceSpecification\":{\"@type\":\"DeliveryChargeSpecification\",\"appliesToDeliveryMethod\":\"http://purl.org/goodrelations/v1#DeliveryModeOwnFleet\",\"priceCurrency\":\"AED\",\"price\":0,\"eligibleTransactionVolume\":{\"@type\":\"PriceSpecification\",\"priceCurrency\":\"AED\",\"price\":0}}},\"aggregateRating\":{\"@type\":\"AggregateRating\",\"bestRating\":\"5\",\"worstRating\":\"0\",\"ratingValue\":4.7,\"ratingCount\":1642}}</script>\n"
          ]
        }
      ]
    },
    {
      "cell_type": "code",
      "source": [
        "coordinate = json.loads(s.string)\n",
        "print(coordinate)"
      ],
      "metadata": {
        "colab": {
          "base_uri": "https://localhost:8080/"
        },
        "id": "6Y93XoInsm9D",
        "outputId": "8e4bbbff-4c66-45b4-ea4b-5121f824bc28"
      },
      "execution_count": 125,
      "outputs": [
        {
          "output_type": "stream",
          "name": "stdout",
          "text": [
            "{'@context': 'http://schema.org', '@type': 'Restaurant', '@id': 'https://www.talabat.com/uae/restaurant/645430/pasta-della-nona-jlt-jumeirah-lakes-towers?aid=1308', 'image': 'https://images.deliveryhero.io/image/talabat/restaurants/Logos_PastaDellaNonna_Sec637794192311679134.jpg?width=180', 'priceRange': ' - ', 'name': 'Pasta Della Nonna', 'address': {'@type': 'PostalAddress', 'streetAddress': 'Street Address', 'addressLocality': 'Jumeirah Lakes Towers - JLT', 'addressRegion': '', 'postalCode': '00000', 'addressCountry': 'uae'}, 'geo': {'@type': 'GeoCoordinates', 'latitude': '25.0651332', 'longitude': '55.13827815'}, 'servesCuisine': 'Italian, Pasta, Salad', 'telephone': '00000-00000', 'potentialAction': {'@type': 'OrderAction', 'target': {'@type': 'EntryPoint', 'urlTemplate': 'https://www.talabat.com/uae/restaurant/645430/pasta-della-nona-jlt-jumeirah-lakes-towers?aid=1308', 'inLanguage': 'en-US', 'actionPlatform': ['http://schema.org/DesktopWebPlatform', 'http://schema.org/IOSPlatform', 'http://schema.org/AndroidPlatform']}, 'deliveryMethod': ['http://purl.org/goodrelations/v1#DeliveryModePickUp', 'http://purl.org/goodrelations/v1#DeliveryModeOwnFleet'], 'priceSpecification': {'@type': 'DeliveryChargeSpecification', 'appliesToDeliveryMethod': 'http://purl.org/goodrelations/v1#DeliveryModeOwnFleet', 'priceCurrency': 'AED', 'price': 0, 'eligibleTransactionVolume': {'@type': 'PriceSpecification', 'priceCurrency': 'AED', 'price': 0}}}, 'aggregateRating': {'@type': 'AggregateRating', 'bestRating': '5', 'worstRating': '0', 'ratingValue': 4.7, 'ratingCount': 1642}}\n"
          ]
        }
      ]
    },
    {
      "cell_type": "code",
      "source": [
        "coordinate['geo']"
      ],
      "metadata": {
        "colab": {
          "base_uri": "https://localhost:8080/"
        },
        "id": "pMMcaIhIsxfv",
        "outputId": "d62d39be-0ab8-44f5-d113-24d83f387644"
      },
      "execution_count": 126,
      "outputs": [
        {
          "output_type": "execute_result",
          "data": {
            "text/plain": [
              "{'@type': 'GeoCoordinates',\n",
              " 'latitude': '25.0651332',\n",
              " 'longitude': '55.13827815'}"
            ]
          },
          "metadata": {},
          "execution_count": 126
        }
      ]
    },
    {
      "cell_type": "code",
      "source": [
        "restaurant_name= soup.find('span',class_=\"last-breadcrumb\").text.strip()\n",
        "print(restaurant_name)"
      ],
      "metadata": {
        "colab": {
          "base_uri": "https://localhost:8080/"
        },
        "id": "2zhlNlqTXwOC",
        "outputId": "36d633db-5544-4040-9033-086086abd670"
      },
      "execution_count": 127,
      "outputs": [
        {
          "output_type": "stream",
          "name": "stdout",
          "text": [
            "Pasta Della Nonna\n"
          ]
        }
      ]
    },
    {
      "cell_type": "code",
      "source": [
        "# restaurant_logo= soup.find('div',class_={\"rest-logo-bg mr-4 mr-m-2 b-a\"})\n",
        "# print(restaurant_logo.prettify())\n",
        "restaurant_logo=soup.find('div',class_={\"rest-logo-bg mr-4 mr-m-2 b-a\"})\n",
        "print(restaurant_logo.find('img').attrs['src'])\n"
      ],
      "metadata": {
        "colab": {
          "base_uri": "https://localhost:8080/"
        },
        "id": "P5Uchfypa9Y4",
        "outputId": "ee2fd5d0-a613-43e4-b614-c0347f4331ab"
      },
      "execution_count": 128,
      "outputs": [
        {
          "output_type": "stream",
          "name": "stdout",
          "text": [
            "https://images.deliveryhero.io/image/talabat/restaurants/Logos_PastaDellaNonna_Sec637794192311679134.jpg?width=180\n"
          ]
        }
      ]
    },
    {
      "cell_type": "code",
      "source": [
        "x= soup.find(class_=\"col-sm-12 col-16 p-r-0\").text.strip()\n",
        "# print(cuisine_tags.prettify())\n",
        "cuisine_tags=x.split(\", \")\n",
        "print(cuisine_tags)"
      ],
      "metadata": {
        "colab": {
          "base_uri": "https://localhost:8080/"
        },
        "id": "FoF28gODc3Wu",
        "outputId": "7ee15d28-d2b0-4da0-950f-4ff375caaf72"
      },
      "execution_count": 129,
      "outputs": [
        {
          "output_type": "stream",
          "name": "stdout",
          "text": [
            "['Italian', 'Pasta', 'Salad']\n"
          ]
        }
      ]
    },
    {
      "cell_type": "code",
      "source": [
        ""
      ],
      "metadata": {
        "id": "5ipFXGpidjy6"
      },
      "execution_count": 129,
      "outputs": []
    },
    {
      "cell_type": "markdown",
      "source": [
        "Main code starts from here..."
      ],
      "metadata": {
        "id": "gyv6w7aseEqP"
      }
    },
    {
      "cell_type": "code",
      "source": [
        "import json\n",
        "data = json.loads(soup.find('script', type='application/json').text)"
      ],
      "metadata": {
        "id": "E0MWOsaU7K7R"
      },
      "execution_count": 130,
      "outputs": []
    },
    {
      "cell_type": "code",
      "source": [
        "type(data)"
      ],
      "metadata": {
        "colab": {
          "base_uri": "https://localhost:8080/"
        },
        "id": "xTlgjbYQUbSY",
        "outputId": "8e77f0e2-f5a7-458c-c140-6dff765dda78"
      },
      "execution_count": 131,
      "outputs": [
        {
          "output_type": "execute_result",
          "data": {
            "text/plain": [
              "dict"
            ]
          },
          "metadata": {},
          "execution_count": 131
        }
      ]
    },
    {
      "cell_type": "code",
      "source": [
        "x=data.keys()"
      ],
      "metadata": {
        "id": "Llk6qbbWUjKn"
      },
      "execution_count": 132,
      "outputs": []
    },
    {
      "cell_type": "code",
      "source": [
        "x"
      ],
      "metadata": {
        "colab": {
          "base_uri": "https://localhost:8080/"
        },
        "id": "zc_1iBrJWQKU",
        "outputId": "093c5691-5b59-4103-8478-3361f50318ca"
      },
      "execution_count": 133,
      "outputs": [
        {
          "output_type": "execute_result",
          "data": {
            "text/plain": [
              "dict_keys(['props', 'page', 'query', 'buildId', 'assetPrefix', 'isFallback', 'gssp', 'customServer', 'appGip', 'scriptLoader'])"
            ]
          },
          "metadata": {},
          "execution_count": 133
        }
      ]
    },
    {
      "cell_type": "code",
      "source": [
        "data['props']['pageProps'].keys()"
      ],
      "metadata": {
        "colab": {
          "base_uri": "https://localhost:8080/"
        },
        "id": "GZQEu9fLWURk",
        "outputId": "02d05e13-7955-43d9-e4d2-3140e3602c6e"
      },
      "execution_count": 134,
      "outputs": [
        {
          "output_type": "execute_result",
          "data": {
            "text/plain": [
              "dict_keys(['namespacesRequired', 'currentURL', 'gtmEventData', 'initialMenuState'])"
            ]
          },
          "metadata": {},
          "execution_count": 134
        }
      ]
    },
    {
      "cell_type": "code",
      "source": [
        "data['props']['pageProps']['initialMenuState']['menuData']['items'][0]"
      ],
      "metadata": {
        "colab": {
          "base_uri": "https://localhost:8080/"
        },
        "id": "BmycSJOdWutB",
        "outputId": "5578f21e-0329-40ca-da4c-ce7a8db58a32"
      },
      "execution_count": 135,
      "outputs": [
        {
          "output_type": "execute_result",
          "data": {
            "text/plain": [
              "{'description': 'Any Appetiser, Any Pasta, Any Soft Drink',\n",
              " 'hasChoices': True,\n",
              " 'id': 957652596,\n",
              " 'image': 'https://images.deliveryhero.io/image/talabat/Menuitems/A978DF4B0B3010DD2DC990A758CF3DA9?width=172&amp;height=172',\n",
              " 'isItemDiscount': False,\n",
              " 'isWithImage': True,\n",
              " 'name': \"Nonna's Meal for 1\",\n",
              " 'oldPrice': -1,\n",
              " 'originalImage': 'https://images.deliveryhero.io/image/talabat/Menuitems/A978DF4B0B3010DD2DC990A758CF3DA9',\n",
              " 'originalSection': \"Nonna's Special Offers\",\n",
              " 'price': 65,\n",
              " 'rating': 0,\n",
              " 'sectionId': 10053405,\n",
              " 'sectionName': \"Nonna's Special Offers\"}"
            ]
          },
          "metadata": {},
          "execution_count": 135
        }
      ]
    },
    {
      "cell_type": "code",
      "source": [
        "for i in range(len(data['props']['pageProps']['initialMenuState']['menuData']['items'])):\n",
        "  item_name=data['props']['pageProps']['initialMenuState']['menuData']['items'][i]['name']\n",
        "  item_description=data['props']['pageProps']['initialMenuState']['menuData']['items'][i]['description']\n",
        "  item_price=data['props']['pageProps']['initialMenuState']['menuData']['items'][i]['price']\n",
        "  item_image=data['props']['pageProps']['initialMenuState']['menuData']['items'][i]['originalImage']\n",
        "  info = [item_name,item_description, item_price, item_image]\n",
        "  print(info)\n",
        "  print(200*'-')\n"
      ],
      "metadata": {
        "colab": {
          "base_uri": "https://localhost:8080/"
        },
        "id": "CrC7QoGIWvgG",
        "outputId": "f2aea318-9a8a-4f46-a46b-8d0fc065bf0d"
      },
      "execution_count": 136,
      "outputs": [
        {
          "output_type": "stream",
          "name": "stdout",
          "text": [
            "[\"Nonna's Meal for 1\", 'Any Appetiser, Any Pasta, Any Soft Drink', 65, 'https://images.deliveryhero.io/image/talabat/Menuitems/A978DF4B0B3010DD2DC990A758CF3DA9']\n",
            "--------------------------------------------------------------------------------------------------------------------------------------------------------------------------------------------------------\n",
            "[\"Nonna's Meal for 2\", \"Any 2 Appetisers, any 2 Pasta's and 2 Soft Drinks!\", 125, 'https://images.deliveryhero.io/image/talabat/Menuitems/E027EE31FA1D1EE5601A8FD4D8A562ED']\n",
            "--------------------------------------------------------------------------------------------------------------------------------------------------------------------------------------------------------\n",
            "[\"Pasta Party Pack - Any 4 pasta's\", 'Choose any 4 pastas from our menu!', 149, 'https://images.deliveryhero.io/image/talabat/Menuitems/643F8604BDDE799B008A2F243FFB1EC5']\n",
            "--------------------------------------------------------------------------------------------------------------------------------------------------------------------------------------------------------\n",
            "[\"Nonna's Chicken Strips\", 'Tender, crispy and delicious - thats how Mamma makes them! Served with BBQ Sauce (4 strips)', 29, 'https://images.deliveryhero.io/image/talabat/Menuitems/2AB03F62823E1D36019BAE958FF0757C']\n",
            "--------------------------------------------------------------------------------------------------------------------------------------------------------------------------------------------------------\n",
            "['Chili Cheese Bites', 'Breaded, crispy, (slightly) chili cheesy bites with a soft centre. Served with a homemade garlic & herb dip', 29, 'https://images.deliveryhero.io/image/talabat/Menuitems/883A86F2C8ADB637DC31C0FF7AF3ABB2']\n",
            "--------------------------------------------------------------------------------------------------------------------------------------------------------------------------------------------------------\n",
            "[\"Nonna's Sweet Potato Fries\", 'Perfectly crunchy sweet potato fries with a sweet chili dip', 23, 'https://images.deliveryhero.io/image/talabat/Menuitems/2ECD686CD342B11621A64B85A0CF6C47']\n",
            "--------------------------------------------------------------------------------------------------------------------------------------------------------------------------------------------------------\n",
            "['Homemade Garlic Bread & Mozzarella', 'Homemade freshly baked bread with fresh garlic and EVOO, topped with our creamy mozzarella', 25, 'https://images.deliveryhero.io/image/talabat/Menuitems/94934064ACCEE0EF10A59188F6CB27DC']\n",
            "--------------------------------------------------------------------------------------------------------------------------------------------------------------------------------------------------------\n",
            "[\"Nonna's Chicken Wings (6) - BBQ\", 'Premium, thick, juicy wings smothered in your choice of Smoky BBQ sauce. Served with a Blue cheese dip (6 wings)', 32, 'https://images.deliveryhero.io/image/talabat/Menuitems/DCFF61FF2AF96CE792DDE55B8A454233']\n",
            "--------------------------------------------------------------------------------------------------------------------------------------------------------------------------------------------------------\n",
            "[\"Nonna's Chicken Wings (6) - Buffalo\", 'Premium, thick, juicy wings smothered in tangy Buffalo sauce. Served with a Blue cheese dip', 32, 'https://images.deliveryhero.io/image/talabat/Menuitems/1A3E4EE5CF3DDBC6E50122561EDABC47']\n",
            "--------------------------------------------------------------------------------------------------------------------------------------------------------------------------------------------------------\n",
            "['Tuscan Chicken Pasta Salad', \"Served cold A delightful mix of Italian flavours and one of Nonna's crowd pleasers - fusili pasta, kalamata olives, shredded roast chicken, sweetcorn, fresh rocket, sun-dried tomato, pine nuts, homemade fresh basil pesto and parmesan\", 43, 'https://images.deliveryhero.io/image/talabat/Menuitems/303F3D7D33FAA697EC415F27313E760C']\n",
            "--------------------------------------------------------------------------------------------------------------------------------------------------------------------------------------------------------\n",
            "[\"Nonna's Grilled Chicken Caesar Salad\", \"Crispy Romaine lettuce with Nonna's creamy Caesar dressing, homemade garlic croutons, powdered parmesan cheese and grilled chicken breast\", 43, 'https://images.deliveryhero.io/image/talabat/Menuitems/2CE50F7174DA328B002D15AF3DC724A7']\n",
            "--------------------------------------------------------------------------------------------------------------------------------------------------------------------------------------------------------\n",
            "['Sicilian Tuna Pasta Salad', \"Served cold Fusili pasta with Nonna's tuna mayo with Mediterranean tuna, sundried tomato, sweetcorn and spring onion\", 43, 'https://images.deliveryhero.io/image/talabat/Menuitems/447C54ED3FFFCC560DE77F7A11CD017A']\n",
            "--------------------------------------------------------------------------------------------------------------------------------------------------------------------------------------------------------\n",
            "['Insalata Caprese', \"Sliced vine tomato with thick cut slices of fresh mozzarella, topped with Nonna's homemade basil pesto, fresh rocket and premium Italian EVOO\", 49, 'https://images.deliveryhero.io/image/talabat/Menuitems/6ABC91B2F17690BB2C0946929B434DD3']\n",
            "--------------------------------------------------------------------------------------------------------------------------------------------------------------------------------------------------------\n",
            "[\"Nonna's Spaghetti Bolognese\", \"An Italian classic - premium spaghetti pasta tossed with Nonna's homemade rich Beef Bolognese sauce - bellissima!\", 49, 'https://images.deliveryhero.io/image/talabat/Menuitems/F89775B299576ACB6E3DFA8CAB5401AB']\n",
            "--------------------------------------------------------------------------------------------------------------------------------------------------------------------------------------------------------\n",
            "['Tagliatelle Della Mamma', \"Mamma Mia! Premium tagliatelle pasta, with Mamma's famous cream sauce of sauteed shrimp and roast garlic! Maraviglioso! (mildly spicy)\", 59, 'https://images.deliveryhero.io/image/talabat/Menuitems/70F8D9F786F734A816A53D5698069EBD']\n",
            "--------------------------------------------------------------------------------------------------------------------------------------------------------------------------------------------------------\n",
            "['Penne Alfredo', 'Premium penne pasta with a rich and creamy sauce of oven roast chicken and fresh mushroom. Topped with Parmesan', 49, 'https://images.deliveryhero.io/image/talabat/Menuitems/D26CDDDC35FCF83CBF316F4B9288DF99']\n",
            "--------------------------------------------------------------------------------------------------------------------------------------------------------------------------------------------------------\n",
            "['Gnocchi Alla Quattro Formaggi', 'Deliciously satisfying gnocchi pasta with a creamy, cheesy homemade four cheese sauce (cheddar, parmesan, gorgonzola and emmenthal)', 49, 'https://images.deliveryhero.io/image/talabat/Menuitems/BF11FDC060C31D8F57AB039012B2DDAF']\n",
            "--------------------------------------------------------------------------------------------------------------------------------------------------------------------------------------------------------\n",
            "['Tortelloni Della Nonna', \"Mamma's delicious spinach & ricotta stuffed tortelloni, mixed with a cream sauce of smoked turkey, shiitake mushroom and emmental. Just the way Nonna likes it!\", 59, 'https://images.deliveryhero.io/image/talabat/Menuitems/49A6403E2DAD51A0A1FE9890AFCE4D04']\n",
            "--------------------------------------------------------------------------------------------------------------------------------------------------------------------------------------------------------\n",
            "['Fusili Bianco Rosso', \"Fusili pasta swirls mixed in Nonna's rich, flavour packed pomodoro sauce, topped with fresh straciatella and chili flakes\", 59, 'https://images.deliveryhero.io/image/talabat/Menuitems/860423B1DD8508128849FE2518F6DEC2']\n",
            "--------------------------------------------------------------------------------------------------------------------------------------------------------------------------------------------------------\n",
            "['Penne Pink', \"Premium durum wheat penne rigate mixed with the perfect balance of Nonna's zesty pomodoro sauce, and silky smooth cooking cream\", 46, 'https://images.deliveryhero.io/image/talabat/Menuitems/E89B8735F5E5FAFF4BD8A867558B5E3D']\n",
            "--------------------------------------------------------------------------------------------------------------------------------------------------------------------------------------------------------\n",
            "['Penne Calabrese', 'Penne pasta with a creamy, tangy pink sauce with sundried tomato and grilled chicken (mildly spicy)', 55, 'https://images.deliveryhero.io/image/talabat/Menuitems/759AA219FA0887C943C971EA5B4BB0D8']\n",
            "--------------------------------------------------------------------------------------------------------------------------------------------------------------------------------------------------------\n",
            "['Penne Arrabbiata', \"Premium durum wheat penne pasta with Nonna's classic sugo all'arrabbiata - a spicy sauce made from garlic, tomatoes, and dried red chili peppers, originating from the Lazio region, around Rome, and translated as 'angry' - in reference to the spice of the chili's\", 46, None]\n",
            "--------------------------------------------------------------------------------------------------------------------------------------------------------------------------------------------------------\n",
            "['Tagliatelle Al Tartufo', \"Nonna's premium tagliatelle pasta, with a creamy homemade sauce of fresh mushroom and black truffle\", 55, None]\n",
            "--------------------------------------------------------------------------------------------------------------------------------------------------------------------------------------------------------\n",
            "['Create your Own Pasta', 'Create you own pasta with our premium pastas and homemade sauces', 46, None]\n",
            "--------------------------------------------------------------------------------------------------------------------------------------------------------------------------------------------------------\n",
            "['Lasagna Al Forno Bolognese', \"Fresh lasagna sheets smothered with Nonna's 100% homemade Beef Bolognese and homemade bechamel sauce, topped with fior di latte mozzarella and parmesan\", 52, 'https://images.deliveryhero.io/image/talabat/Menuitems/4B94AACDE4DB9B423FB7FDD66757B368']\n",
            "--------------------------------------------------------------------------------------------------------------------------------------------------------------------------------------------------------\n",
            "['Lasagna Di Pollo', \"Layers of fresh lasagna, filled with Nonna's homemade basil pesto, shredded oven roast chicken breast, classic homemade bechamel sauce and topped with fior di latte mozzarella and parmesan\", 52, 'https://images.deliveryhero.io/image/talabat/Menuitems/2FF654280C2A932BDD30869C7763C626']\n",
            "--------------------------------------------------------------------------------------------------------------------------------------------------------------------------------------------------------\n",
            "['Bambino Bolognese', 'Our classic Spaghetti with Beef Bolognese, just a bit smaller!', 35, 'https://images.deliveryhero.io/image/talabat/Menuitems/C8D22CC686D9E26AA9116E8E938A5AE7']\n",
            "--------------------------------------------------------------------------------------------------------------------------------------------------------------------------------------------------------\n",
            "['Bambino Pomodoro', 'Penne pasta topped with our rich tomato sauce', 32, 'https://images.deliveryhero.io/image/talabat/Menuitems/BA525323902551064FFAB033BC75CB0D']\n",
            "--------------------------------------------------------------------------------------------------------------------------------------------------------------------------------------------------------\n",
            "[\"Mac'n'Cheese\", \"Nonna's delightfully creamy classic cheddar cheese mac!\", 35, 'https://images.deliveryhero.io/image/talabat/Menuitems/01D658CD3C9C83D0E289193F43D2C28F']\n",
            "--------------------------------------------------------------------------------------------------------------------------------------------------------------------------------------------------------\n",
            "['Chicken Nuggets & Wedges', 'Crispy chicken nuggets with seasoned potato wedges', 28, 'https://images.deliveryhero.io/image/talabat/Menuitems/13F24739ABC5729750F3923F3809E47D']\n",
            "--------------------------------------------------------------------------------------------------------------------------------------------------------------------------------------------------------\n",
            "[\"Nonna's Chocolate Fudge Brownie\", 'Soft, fudgy and chocolatey. Satisfaction guaranteed! Contains Nuts', 23, 'https://images.deliveryhero.io/image/talabat/Menuitems/4CBE990CA3AA7066814D49DB23EDF7BA']\n",
            "--------------------------------------------------------------------------------------------------------------------------------------------------------------------------------------------------------\n",
            "[\"Nonna's Chocolate Chip Cookie\", 'Soft, buttery, and stuffed with chocolate. A perfect treat!', 23, 'https://images.deliveryhero.io/image/talabat/Menuitems/A1537480AF6BC48B69DDDD3A568EDC7C']\n",
            "--------------------------------------------------------------------------------------------------------------------------------------------------------------------------------------------------------\n",
            "[\"Nonna's Banana Caramel Pudding\", \"Nonna's homemade pudding with caramelised banana, custard cream, and banana caramel sauce\", 28, 'https://images.deliveryhero.io/image/talabat/Menuitems/8E1706AEDEC303E6B5343394551A7EF1']\n",
            "--------------------------------------------------------------------------------------------------------------------------------------------------------------------------------------------------------\n",
            "[\"Nonna's Toffee Sponge Cake\", 'Homemade toffee sponge with creme anglaise and toffee nut caramel sauce', 28, 'https://images.deliveryhero.io/image/talabat/Menuitems/4787052D27E3C1BD86ED0E039D37D866']\n",
            "--------------------------------------------------------------------------------------------------------------------------------------------------------------------------------------------------------\n",
            "[\"Nonna's Homemade Tiramisu\", \"Classic Tiramisu using Nonna's secret recipe\", 28, 'https://images.deliveryhero.io/image/talabat/Menuitems/31F657C8D13C362F85CD77FB1F92C4FF']\n",
            "--------------------------------------------------------------------------------------------------------------------------------------------------------------------------------------------------------\n",
            "['Arwa Water (500ml)', '', 5, 'https://images.deliveryhero.io/image/talabat/Menuitems/BB9E183197C487B000DA50E378E44485']\n",
            "--------------------------------------------------------------------------------------------------------------------------------------------------------------------------------------------------------\n",
            "['Coca Cola (290ml)', '', 9, 'https://images.deliveryhero.io/image/talabat/Menuitems/DF22E314A3DA3D18A0C01867A561E51C']\n",
            "--------------------------------------------------------------------------------------------------------------------------------------------------------------------------------------------------------\n",
            "['Coke Zero (290ml)', '', 9, 'https://images.deliveryhero.io/image/talabat/Menuitems/4C1E22C272FF722ACD7BE8E0718B7B8F']\n",
            "--------------------------------------------------------------------------------------------------------------------------------------------------------------------------------------------------------\n",
            "['Fanta (290ml)', '', 9, 'https://images.deliveryhero.io/image/talabat/Menuitems/105CA63D17E048DEA39B96190DA307EF']\n",
            "--------------------------------------------------------------------------------------------------------------------------------------------------------------------------------------------------------\n",
            "['Sprite (290ml)', '', 9, 'https://images.deliveryhero.io/image/talabat/Menuitems/61E9855C029D4D5C14B6EACABB7AB352']\n",
            "--------------------------------------------------------------------------------------------------------------------------------------------------------------------------------------------------------\n"
          ]
        }
      ]
    },
    {
      "cell_type": "code",
      "source": [
        ""
      ],
      "metadata": {
        "id": "WvCTB-a7tidu"
      },
      "execution_count": 136,
      "outputs": []
    },
    {
      "cell_type": "markdown",
      "source": [
        "Saving it into CSV file"
      ],
      "metadata": {
        "id": "pUNBeNL7tjBZ"
      }
    },
    {
      "cell_type": "code",
      "source": [
        "import csv"
      ],
      "metadata": {
        "id": "QDfq0pEWtjBa"
      },
      "execution_count": 137,
      "outputs": []
    },
    {
      "cell_type": "code",
      "source": [
        "csv_file = open('mydata.csv', 'w')"
      ],
      "metadata": {
        "id": "GKchXYIBtjBa"
      },
      "execution_count": 138,
      "outputs": []
    },
    {
      "cell_type": "code",
      "source": [
        "csv_writer = csv.writer(csv_file)\n",
        "csv_writer.writerow([\"Restaurant_Name\", \"Restaurant_Logo_url\", \"Latitude\", \"Longitude\",\"Cuisine_tags\",\"Menu_Items\"])"
      ],
      "metadata": {
        "colab": {
          "base_uri": "https://localhost:8080/"
        },
        "outputId": "ac3aa054-b01a-40ac-9e09-58b5d9b0666c",
        "id": "9RzTSot0tjBa"
      },
      "execution_count": 139,
      "outputs": [
        {
          "output_type": "execute_result",
          "data": {
            "text/plain": [
              "80"
            ]
          },
          "metadata": {},
          "execution_count": 139
        }
      ]
    },
    {
      "cell_type": "markdown",
      "source": [
        "Function to extract all the required informations."
      ],
      "metadata": {
        "id": "ULQ-K8cPRhla"
      }
    },
    {
      "cell_type": "code",
      "source": [
        "def make_csv(url):\n",
        "  \n",
        "  r = requests.get(url)\n",
        "# Convert to a beautiful soup object\n",
        "  soup = bs(r.content)\n",
        "# Print out the HTML\n",
        "# contents = soup.prettify()\n",
        "  restaurant_name= soup.find('span',class_=\"last-breadcrumb\").text.strip()\n",
        "\n",
        "\n",
        "  logo=soup.find('div',class_={\"rest-logo-bg mr-4 mr-m-2 b-a\"})\n",
        "  restaurant_logo= logo.find('img').attrs['src']\n",
        "\n",
        "  coordinate = json.loads(soup.find('script', type='application/ld+json').string)\n",
        "  latitude=float(coordinate['geo']['latitude'])\n",
        "  longitude=float(coordinate['geo']['longitude'])\n",
        "\n",
        "  x= soup.find(class_=\"col-sm-12 col-16 p-r-0\").text.strip()\n",
        "# print(cuisine_tags.prettify())\n",
        "  cuisine_tags=x.split(\", \")\n",
        "  menu_items=[]\n",
        "\n",
        "  data = json.loads(soup.find('script', type='application/json').text)\n",
        "  for i in range(len(data['props']['pageProps']['initialMenuState']['menuData']['items'])):\n",
        "    item_name=data['props']['pageProps']['initialMenuState']['menuData']['items'][i]['name']\n",
        "    item_description=data['props']['pageProps']['initialMenuState']['menuData']['items'][i]['description']\n",
        "    item_price=float(data['props']['pageProps']['initialMenuState']['menuData']['items'][i]['price'])\n",
        "    item_image=data['props']['pageProps']['initialMenuState']['menuData']['items'][i]['originalImage']\n",
        "    info = [item_name,item_description, item_price, item_image]\n",
        "    menu_items.append(info)\n",
        "   \n",
        "\n",
        "    #header = ['Restaurant_Name', 'Restaurant_Logo_url', 'Latitude', 'Longitude','Cuisine_tags','Menu_Items']\n",
        "\n",
        "  csv_writer.writerow([restaurant_name,restaurant_logo,latitude,longitude,cuisine_tags,menu_items])\n",
        "\n",
        "  # print(restaurant_name)\n",
        "  # print(restaurant_logo)\n",
        "  # print(latitude)\n",
        "  # print(longitude)\n",
        "  # print(cuisine_tags)\n",
        "  # print(menu_items)\n",
        "\n",
        "\n",
        "\n"
      ],
      "metadata": {
        "id": "VTGAypF0cMze"
      },
      "execution_count": 140,
      "outputs": []
    },
    {
      "cell_type": "code",
      "source": [
        "urls=[\n",
        "    \"https://www.talabat.com/uae/restaurant/621133/ginos-deli-jlt?aid=1308\",\n",
        "    \"https://www.talabat.com/uae/restaurant/645430/pasta-della-nona-jlt-jumeirah-lakes-towers?aid=1308\",\n",
        "    \"https://www.talabat.com/uae/restaurant/50445/pizzaro-marina-3?aid=1308\",\n",
        "    \"https://www.talabat.com/uae/restaurant/605052/the-pasta-guyz-dubai-marina?aid=1308\",\n",
        "    \"https://www.talabat.com/uae/restaurant/621796/pizza-di-rocco-jumeirah-lakes-towers--jlt?aid=1308\",\n",
        "    \"https://www.talabat.com/uae/restaurant/671561/organic-pelmeni?aid=1193\",\n",
        "    \"https://www.talabat.com/uae/restaurant/43870/chaat-bazaar-cafeteria-al-karama?aid=1187\",\n",
        "    \"https://www.talabat.com/uae/restaurant/651460/the-green-house-dh-kitchens-al-rashidiya?aid=1204\",\n",
        "    \"https://www.talabat.com/uae/restaurant/602518/indian-bites-al-safa?aid=1304\",\n",
        "    \"https://www.talabat.com/uae/restaurant/663015/curry-bites-al-quoz-2?aid=1210\",\n",
        "    \"https://www.talabat.com/uae/restaurant/600456/share-cafejebel-ali-1?aid=1307\",\n",
        "    \"https://www.talabat.com/uae/restaurant/616535/mad-pops-al-majaz-3?aid=1532\"\n",
        "]"
      ],
      "metadata": {
        "id": "_l_CX1Ftj8Tz"
      },
      "execution_count": 141,
      "outputs": []
    },
    {
      "cell_type": "code",
      "source": [
        "len"
      ],
      "metadata": {
        "colab": {
          "base_uri": "https://localhost:8080/"
        },
        "id": "ghmY-EQNESLy",
        "outputId": "990128c0-0cc2-46bc-ec63-00b704f45603"
      },
      "execution_count": 142,
      "outputs": [
        {
          "output_type": "execute_result",
          "data": {
            "text/plain": [
              "12"
            ]
          },
          "metadata": {},
          "execution_count": 142
        }
      ]
    },
    {
      "cell_type": "code",
      "source": [
        "for url in urls:\n",
        "  make_csv(url)\n",
        "csv_file.close()"
      ],
      "metadata": {
        "id": "FyVVJdh9kwx-"
      },
      "execution_count": 143,
      "outputs": []
    },
    {
      "cell_type": "markdown",
      "source": [
        "Displaying the extracted CSV file using pandas library"
      ],
      "metadata": {
        "id": "m3Vb_YEWR4vq"
      }
    },
    {
      "cell_type": "code",
      "source": [
        "import pandas as pd\n",
        "df = pd.read_csv('mydata.csv')"
      ],
      "metadata": {
        "id": "p_mPsoQfk6cA"
      },
      "execution_count": 144,
      "outputs": []
    },
    {
      "cell_type": "code",
      "source": [
        "df"
      ],
      "metadata": {
        "colab": {
          "base_uri": "https://localhost:8080/",
          "height": 426
        },
        "id": "-AAGglpMHuig",
        "outputId": "f02865c5-2034-4472-c768-982032aef37a"
      },
      "execution_count": 145,
      "outputs": [
        {
          "output_type": "execute_result",
          "data": {
            "text/plain": [
              "                        Restaurant_Name  \\\n",
              "0                           Gino's Deli   \n",
              "1                     Pasta Della Nonna   \n",
              "2                               Pizzaro   \n",
              "3                        The Pasta Guyz   \n",
              "4                        Pizza Di Rocco   \n",
              "5                Organic Pelmeni Snacks   \n",
              "6                          Chaat Bazaar   \n",
              "7   The Green House  Warm Healthy Bowls   \n",
              "8                          Indian Bites   \n",
              "9                           Curry Bites   \n",
              "10                           Share Cafe   \n",
              "11                             Mad Pops   \n",
              "\n",
              "                                  Restaurant_Logo_url   Latitude  Longitude  \\\n",
              "0   https://images.deliveryhero.io/image/talabat/r...  25.064858  55.138377   \n",
              "1   https://images.deliveryhero.io/image/talabat/r...  25.065133  55.138278   \n",
              "2   https://images.deliveryhero.io/image/talabat/r...  25.083309  55.146559   \n",
              "3   https://images.deliveryhero.io/image/talabat/r...  25.073776  55.132283   \n",
              "4   https://images.deliveryhero.io/image/talabat/r...  25.065092  55.138791   \n",
              "5   https://images.deliveryhero.io/image/talabat/r...  25.213745  55.263358   \n",
              "6   https://images.deliveryhero.io/image/talabat/r...  25.248310  55.302944   \n",
              "7   https://images.deliveryhero.io/image/talabat/r...  25.226227  55.394496   \n",
              "8   https://images.deliveryhero.io/image/talabat/r...  25.167383  55.227874   \n",
              "9   https://images.deliveryhero.io/image/talabat/r...  25.142744  55.249527   \n",
              "10  https://images.deliveryhero.io/image/talabat/r...  25.025317  55.152884   \n",
              "11  https://images.deliveryhero.io/image/talabat/r...  25.330212  55.371997   \n",
              "\n",
              "                            Cuisine_tags  \\\n",
              "0     ['Sandwiches', 'Pasta', 'Italian']   \n",
              "1          ['Italian', 'Pasta', 'Salad']   \n",
              "2          ['Italian', 'Pizza', 'Pasta']   \n",
              "3                   ['Italian', 'Pasta']   \n",
              "4          ['Pizza', 'Pasta', 'Italian']   \n",
              "5                      ['International']   \n",
              "6                             ['Indian']   \n",
              "7           ['Healthy', 'Bowls', 'Acai']   \n",
              "8       ['Indian', 'Biryani', 'Chinese']   \n",
              "9          ['Indian', 'Curry', 'Grills']   \n",
              "10        ['Arabic', 'Cafe', 'Desserts']   \n",
              "11  ['American', 'Fast Food', 'Chicken']   \n",
              "\n",
              "                                           Menu_Items  \n",
              "0   [[\"Gino's Meal for One\", 'Choice of Panuozzo, ...  \n",
              "1   [[\"Nonna's Meal for 1\", 'Any Appetiser, Any Pa...  \n",
              "2   [['Mixed Seafood Pizza BOGO', 'Pizza sauce, mo...  \n",
              "3   [['Cheesy Garlic Bread (Vegetarian)', 'A full ...  \n",
              "4   [['Meal for One', 'Any Pizza, Appetiser & Soft...  \n",
              "5   [['Frozen Dumplings With Lamb ', '12 pieces 13...  \n",
              "6   [['Asli Vada Pav', 'The legendary. ', 6.3, 'ht...  \n",
              "7   [['Indian Spiced Braised Chicken w/ Sweet Pota...  \n",
              "8   [['Vegetable Spring Rolls', 'A mix of seasonal...  \n",
              "9   [['Manchurian Vegetables With Fried Rice', '',...  \n",
              "10  [['Breakfast', 'Hummus, foul, halloumi cheese,...  \n",
              "11  [['Combo Meal', 'Chicken dynamite popcorn, and...  "
            ],
            "text/html": [
              "\n",
              "  <div id=\"df-81e195cb-a1e1-495a-9ea0-0f8843f7ed74\">\n",
              "    <div class=\"colab-df-container\">\n",
              "      <div>\n",
              "<style scoped>\n",
              "    .dataframe tbody tr th:only-of-type {\n",
              "        vertical-align: middle;\n",
              "    }\n",
              "\n",
              "    .dataframe tbody tr th {\n",
              "        vertical-align: top;\n",
              "    }\n",
              "\n",
              "    .dataframe thead th {\n",
              "        text-align: right;\n",
              "    }\n",
              "</style>\n",
              "<table border=\"1\" class=\"dataframe\">\n",
              "  <thead>\n",
              "    <tr style=\"text-align: right;\">\n",
              "      <th></th>\n",
              "      <th>Restaurant_Name</th>\n",
              "      <th>Restaurant_Logo_url</th>\n",
              "      <th>Latitude</th>\n",
              "      <th>Longitude</th>\n",
              "      <th>Cuisine_tags</th>\n",
              "      <th>Menu_Items</th>\n",
              "    </tr>\n",
              "  </thead>\n",
              "  <tbody>\n",
              "    <tr>\n",
              "      <th>0</th>\n",
              "      <td>Gino's Deli</td>\n",
              "      <td>https://images.deliveryhero.io/image/talabat/r...</td>\n",
              "      <td>25.064858</td>\n",
              "      <td>55.138377</td>\n",
              "      <td>['Sandwiches', 'Pasta', 'Italian']</td>\n",
              "      <td>[[\"Gino's Meal for One\", 'Choice of Panuozzo, ...</td>\n",
              "    </tr>\n",
              "    <tr>\n",
              "      <th>1</th>\n",
              "      <td>Pasta Della Nonna</td>\n",
              "      <td>https://images.deliveryhero.io/image/talabat/r...</td>\n",
              "      <td>25.065133</td>\n",
              "      <td>55.138278</td>\n",
              "      <td>['Italian', 'Pasta', 'Salad']</td>\n",
              "      <td>[[\"Nonna's Meal for 1\", 'Any Appetiser, Any Pa...</td>\n",
              "    </tr>\n",
              "    <tr>\n",
              "      <th>2</th>\n",
              "      <td>Pizzaro</td>\n",
              "      <td>https://images.deliveryhero.io/image/talabat/r...</td>\n",
              "      <td>25.083309</td>\n",
              "      <td>55.146559</td>\n",
              "      <td>['Italian', 'Pizza', 'Pasta']</td>\n",
              "      <td>[['Mixed Seafood Pizza BOGO', 'Pizza sauce, mo...</td>\n",
              "    </tr>\n",
              "    <tr>\n",
              "      <th>3</th>\n",
              "      <td>The Pasta Guyz</td>\n",
              "      <td>https://images.deliveryhero.io/image/talabat/r...</td>\n",
              "      <td>25.073776</td>\n",
              "      <td>55.132283</td>\n",
              "      <td>['Italian', 'Pasta']</td>\n",
              "      <td>[['Cheesy Garlic Bread (Vegetarian)', 'A full ...</td>\n",
              "    </tr>\n",
              "    <tr>\n",
              "      <th>4</th>\n",
              "      <td>Pizza Di Rocco</td>\n",
              "      <td>https://images.deliveryhero.io/image/talabat/r...</td>\n",
              "      <td>25.065092</td>\n",
              "      <td>55.138791</td>\n",
              "      <td>['Pizza', 'Pasta', 'Italian']</td>\n",
              "      <td>[['Meal for One', 'Any Pizza, Appetiser &amp; Soft...</td>\n",
              "    </tr>\n",
              "    <tr>\n",
              "      <th>5</th>\n",
              "      <td>Organic Pelmeni Snacks</td>\n",
              "      <td>https://images.deliveryhero.io/image/talabat/r...</td>\n",
              "      <td>25.213745</td>\n",
              "      <td>55.263358</td>\n",
              "      <td>['International']</td>\n",
              "      <td>[['Frozen Dumplings With Lamb ', '12 pieces 13...</td>\n",
              "    </tr>\n",
              "    <tr>\n",
              "      <th>6</th>\n",
              "      <td>Chaat Bazaar</td>\n",
              "      <td>https://images.deliveryhero.io/image/talabat/r...</td>\n",
              "      <td>25.248310</td>\n",
              "      <td>55.302944</td>\n",
              "      <td>['Indian']</td>\n",
              "      <td>[['Asli Vada Pav', 'The legendary. ', 6.3, 'ht...</td>\n",
              "    </tr>\n",
              "    <tr>\n",
              "      <th>7</th>\n",
              "      <td>The Green House  Warm Healthy Bowls</td>\n",
              "      <td>https://images.deliveryhero.io/image/talabat/r...</td>\n",
              "      <td>25.226227</td>\n",
              "      <td>55.394496</td>\n",
              "      <td>['Healthy', 'Bowls', 'Acai']</td>\n",
              "      <td>[['Indian Spiced Braised Chicken w/ Sweet Pota...</td>\n",
              "    </tr>\n",
              "    <tr>\n",
              "      <th>8</th>\n",
              "      <td>Indian Bites</td>\n",
              "      <td>https://images.deliveryhero.io/image/talabat/r...</td>\n",
              "      <td>25.167383</td>\n",
              "      <td>55.227874</td>\n",
              "      <td>['Indian', 'Biryani', 'Chinese']</td>\n",
              "      <td>[['Vegetable Spring Rolls', 'A mix of seasonal...</td>\n",
              "    </tr>\n",
              "    <tr>\n",
              "      <th>9</th>\n",
              "      <td>Curry Bites</td>\n",
              "      <td>https://images.deliveryhero.io/image/talabat/r...</td>\n",
              "      <td>25.142744</td>\n",
              "      <td>55.249527</td>\n",
              "      <td>['Indian', 'Curry', 'Grills']</td>\n",
              "      <td>[['Manchurian Vegetables With Fried Rice', '',...</td>\n",
              "    </tr>\n",
              "    <tr>\n",
              "      <th>10</th>\n",
              "      <td>Share Cafe</td>\n",
              "      <td>https://images.deliveryhero.io/image/talabat/r...</td>\n",
              "      <td>25.025317</td>\n",
              "      <td>55.152884</td>\n",
              "      <td>['Arabic', 'Cafe', 'Desserts']</td>\n",
              "      <td>[['Breakfast', 'Hummus, foul, halloumi cheese,...</td>\n",
              "    </tr>\n",
              "    <tr>\n",
              "      <th>11</th>\n",
              "      <td>Mad Pops</td>\n",
              "      <td>https://images.deliveryhero.io/image/talabat/r...</td>\n",
              "      <td>25.330212</td>\n",
              "      <td>55.371997</td>\n",
              "      <td>['American', 'Fast Food', 'Chicken']</td>\n",
              "      <td>[['Combo Meal', 'Chicken dynamite popcorn, and...</td>\n",
              "    </tr>\n",
              "  </tbody>\n",
              "</table>\n",
              "</div>\n",
              "      <button class=\"colab-df-convert\" onclick=\"convertToInteractive('df-81e195cb-a1e1-495a-9ea0-0f8843f7ed74')\"\n",
              "              title=\"Convert this dataframe to an interactive table.\"\n",
              "              style=\"display:none;\">\n",
              "        \n",
              "  <svg xmlns=\"http://www.w3.org/2000/svg\" height=\"24px\"viewBox=\"0 0 24 24\"\n",
              "       width=\"24px\">\n",
              "    <path d=\"M0 0h24v24H0V0z\" fill=\"none\"/>\n",
              "    <path d=\"M18.56 5.44l.94 2.06.94-2.06 2.06-.94-2.06-.94-.94-2.06-.94 2.06-2.06.94zm-11 1L8.5 8.5l.94-2.06 2.06-.94-2.06-.94L8.5 2.5l-.94 2.06-2.06.94zm10 10l.94 2.06.94-2.06 2.06-.94-2.06-.94-.94-2.06-.94 2.06-2.06.94z\"/><path d=\"M17.41 7.96l-1.37-1.37c-.4-.4-.92-.59-1.43-.59-.52 0-1.04.2-1.43.59L10.3 9.45l-7.72 7.72c-.78.78-.78 2.05 0 2.83L4 21.41c.39.39.9.59 1.41.59.51 0 1.02-.2 1.41-.59l7.78-7.78 2.81-2.81c.8-.78.8-2.07 0-2.86zM5.41 20L4 18.59l7.72-7.72 1.47 1.35L5.41 20z\"/>\n",
              "  </svg>\n",
              "      </button>\n",
              "      \n",
              "  <style>\n",
              "    .colab-df-container {\n",
              "      display:flex;\n",
              "      flex-wrap:wrap;\n",
              "      gap: 12px;\n",
              "    }\n",
              "\n",
              "    .colab-df-convert {\n",
              "      background-color: #E8F0FE;\n",
              "      border: none;\n",
              "      border-radius: 50%;\n",
              "      cursor: pointer;\n",
              "      display: none;\n",
              "      fill: #1967D2;\n",
              "      height: 32px;\n",
              "      padding: 0 0 0 0;\n",
              "      width: 32px;\n",
              "    }\n",
              "\n",
              "    .colab-df-convert:hover {\n",
              "      background-color: #E2EBFA;\n",
              "      box-shadow: 0px 1px 2px rgba(60, 64, 67, 0.3), 0px 1px 3px 1px rgba(60, 64, 67, 0.15);\n",
              "      fill: #174EA6;\n",
              "    }\n",
              "\n",
              "    [theme=dark] .colab-df-convert {\n",
              "      background-color: #3B4455;\n",
              "      fill: #D2E3FC;\n",
              "    }\n",
              "\n",
              "    [theme=dark] .colab-df-convert:hover {\n",
              "      background-color: #434B5C;\n",
              "      box-shadow: 0px 1px 3px 1px rgba(0, 0, 0, 0.15);\n",
              "      filter: drop-shadow(0px 1px 2px rgba(0, 0, 0, 0.3));\n",
              "      fill: #FFFFFF;\n",
              "    }\n",
              "  </style>\n",
              "\n",
              "      <script>\n",
              "        const buttonEl =\n",
              "          document.querySelector('#df-81e195cb-a1e1-495a-9ea0-0f8843f7ed74 button.colab-df-convert');\n",
              "        buttonEl.style.display =\n",
              "          google.colab.kernel.accessAllowed ? 'block' : 'none';\n",
              "\n",
              "        async function convertToInteractive(key) {\n",
              "          const element = document.querySelector('#df-81e195cb-a1e1-495a-9ea0-0f8843f7ed74');\n",
              "          const dataTable =\n",
              "            await google.colab.kernel.invokeFunction('convertToInteractive',\n",
              "                                                     [key], {});\n",
              "          if (!dataTable) return;\n",
              "\n",
              "          const docLinkHtml = 'Like what you see? Visit the ' +\n",
              "            '<a target=\"_blank\" href=https://colab.research.google.com/notebooks/data_table.ipynb>data table notebook</a>'\n",
              "            + ' to learn more about interactive tables.';\n",
              "          element.innerHTML = '';\n",
              "          dataTable['output_type'] = 'display_data';\n",
              "          await google.colab.output.renderOutput(dataTable, element);\n",
              "          const docLink = document.createElement('div');\n",
              "          docLink.innerHTML = docLinkHtml;\n",
              "          element.appendChild(docLink);\n",
              "        }\n",
              "      </script>\n",
              "    </div>\n",
              "  </div>\n",
              "  "
            ]
          },
          "metadata": {},
          "execution_count": 145
        }
      ]
    },
    {
      "cell_type": "code",
      "source": [
        ""
      ],
      "metadata": {
        "id": "utNJbroRKOSf"
      },
      "execution_count": 145,
      "outputs": []
    }
  ]
}